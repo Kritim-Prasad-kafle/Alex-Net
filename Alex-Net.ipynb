{
  "nbformat": 4,
  "nbformat_minor": 0,
  "metadata": {
    "colab": {
      "name": "Untitled20.ipynb",
      "provenance": []
    },
    "kernelspec": {
      "name": "python3",
      "display_name": "Python 3"
    },
    "language_info": {
      "name": "python"
    }
  },
  "cells": [
    {
      "cell_type": "code",
      "metadata": {
        "id": "1o9oNAINW8WC"
      },
      "source": [
        "import tensorflow as tf"
      ],
      "execution_count": 1,
      "outputs": []
    },
    {
      "cell_type": "markdown",
      "metadata": {
        "id": "oyNOsqmOW-dL"
      },
      "source": [
        ""
      ]
    },
    {
      "cell_type": "code",
      "metadata": {
        "colab": {
          "base_uri": "https://localhost:8080/",
          "height": 35
        },
        "id": "oEIiM4vsXTwe",
        "outputId": "b0598ae2-0090-4cb2-db34-55d92f882f0a"
      },
      "source": [
        "tf.__version__"
      ],
      "execution_count": 2,
      "outputs": [
        {
          "output_type": "execute_result",
          "data": {
            "application/vnd.google.colaboratory.intrinsic+json": {
              "type": "string"
            },
            "text/plain": [
              "'2.5.0'"
            ]
          },
          "metadata": {
            "tags": []
          },
          "execution_count": 2
        }
      ]
    },
    {
      "cell_type": "code",
      "metadata": {
        "colab": {
          "base_uri": "https://localhost:8080/"
        },
        "id": "ahCqCEcYXT2O",
        "outputId": "bb72efc1-bd46-4444-cbb8-97d00c74bdfd"
      },
      "source": [
        "import tensorflow.keras\n",
        "from tensorflow.keras.models import Sequential\n",
        "from tensorflow.keras.layers import Dense, Activation, Dropout, Flatten, Conv2D, MaxPooling2D, BatchNormalization\n",
        "\n",
        "# (3) Create a sequential model\n",
        "model = Sequential()\n",
        "\n",
        "#1st Convolutional layer\n",
        "model.add(Conv2D(filters = 96, input_shape = (227, 227, 3), kernel_size = (11, 11), strides = (4,4), padding = 'valid'))\n",
        "model.add(Activation('relu'))\n",
        "\n",
        "#Pooling \n",
        "model.add(MaxPooling2D(pool_size = (2,2), strides = (2,2), padding = 'valid'))\n",
        "\n",
        "#Batch Normalization before passing it to the next layer\n",
        "model.add(BatchNormalization())\n",
        "\n",
        "#2nd Convolutional layer\n",
        "model.add(Conv2D(filters = 256, kernel_size = (11,11), strides = (1,1), padding = 'valid'))\n",
        "model.add(Activation('relu'))\n",
        "\n",
        "#Pooling\n",
        "model.add(MaxPooling2D(pool_size = (2,2), strides = (2,2), padding = 'valid'))\n",
        "\n",
        "#Batch Normalization\n",
        "model.add(BatchNormalization())\n",
        "\n",
        "#3rd Convolutional layer\n",
        "model.add(Conv2D(filters = 384, kernel_size = (3,3), strides = (1,1), padding = 'valid'))\n",
        "model.add(Activation('relu'))\n",
        "\n",
        "#Batch Normalization\n",
        "model.add(BatchNormalization())\n",
        "\n",
        "\n",
        "# 4th Convolutional Layer\n",
        "model.add(Conv2D(filters=384, kernel_size=(3,3), strides=(1,1), padding='valid'))\n",
        "model.add(Activation('relu'))\n",
        "# Batch Normalisation\n",
        "model.add(BatchNormalization())\n",
        "\n",
        "#5th Convolutional layer\n",
        "model.add(Conv2D(filters = 256, kernel_size = (3,3), strides = (1,1), padding = 'valid'))\n",
        "model.add(Activation('relu'))\n",
        "#Pooling\n",
        "model.add(MaxPooling2D(pool_size = (2,2), strides = (2,2), padding = 'valid'))\n",
        "\n",
        "#batch Normalization\n",
        "model.add(BatchNormalization())\n",
        "\n",
        "#Passing it to a dense layer\n",
        "model.add(Flatten())\n",
        "#1st dense layer\n",
        "model.add(Dense(4096, input_shape = (224*224*3,)))\n",
        "model.add(Activation('relu'))\n",
        "#Add Dropout to prevent overfitting\n",
        "model.add(Dropout(0.4))\n",
        "#Batch Normalisation\n",
        "model.add(BatchNormalization())\n",
        "\n",
        "#2nd Dense Layer\n",
        "model.add(Dense(4096))\n",
        "model.add(Activation('relu'))\n",
        "#Add Dropout\n",
        "model.add(Dropout(0.4))\n",
        "#Batch Normalisation\n",
        "model.add(BatchNormalization())\n",
        "\n",
        "#3rd Dense Layer\n",
        "model.add(Dense(1000))\n",
        "model.add(Activation('relu'))\n",
        "#Add Dropout\n",
        "model.add(Dropout(0.4))\n",
        "#Batch Normalization\n",
        "model.add(BatchNormalization())\n",
        "\n",
        "#Output Layer\n",
        "model.add(Dense(17))\n",
        "model.add(Activation('softmax'))\n",
        "\n",
        "model.summary()"
      ],
      "execution_count": 3,
      "outputs": [
        {
          "output_type": "stream",
          "text": [
            "Model: \"sequential\"\n",
            "_________________________________________________________________\n",
            "Layer (type)                 Output Shape              Param #   \n",
            "=================================================================\n",
            "conv2d (Conv2D)              (None, 55, 55, 96)        34944     \n",
            "_________________________________________________________________\n",
            "activation (Activation)      (None, 55, 55, 96)        0         \n",
            "_________________________________________________________________\n",
            "max_pooling2d (MaxPooling2D) (None, 27, 27, 96)        0         \n",
            "_________________________________________________________________\n",
            "batch_normalization (BatchNo (None, 27, 27, 96)        384       \n",
            "_________________________________________________________________\n",
            "conv2d_1 (Conv2D)            (None, 17, 17, 256)       2973952   \n",
            "_________________________________________________________________\n",
            "activation_1 (Activation)    (None, 17, 17, 256)       0         \n",
            "_________________________________________________________________\n",
            "max_pooling2d_1 (MaxPooling2 (None, 8, 8, 256)         0         \n",
            "_________________________________________________________________\n",
            "batch_normalization_1 (Batch (None, 8, 8, 256)         1024      \n",
            "_________________________________________________________________\n",
            "conv2d_2 (Conv2D)            (None, 6, 6, 384)         885120    \n",
            "_________________________________________________________________\n",
            "activation_2 (Activation)    (None, 6, 6, 384)         0         \n",
            "_________________________________________________________________\n",
            "batch_normalization_2 (Batch (None, 6, 6, 384)         1536      \n",
            "_________________________________________________________________\n",
            "conv2d_3 (Conv2D)            (None, 4, 4, 384)         1327488   \n",
            "_________________________________________________________________\n",
            "activation_3 (Activation)    (None, 4, 4, 384)         0         \n",
            "_________________________________________________________________\n",
            "batch_normalization_3 (Batch (None, 4, 4, 384)         1536      \n",
            "_________________________________________________________________\n",
            "conv2d_4 (Conv2D)            (None, 2, 2, 256)         884992    \n",
            "_________________________________________________________________\n",
            "activation_4 (Activation)    (None, 2, 2, 256)         0         \n",
            "_________________________________________________________________\n",
            "max_pooling2d_2 (MaxPooling2 (None, 1, 1, 256)         0         \n",
            "_________________________________________________________________\n",
            "batch_normalization_4 (Batch (None, 1, 1, 256)         1024      \n",
            "_________________________________________________________________\n",
            "flatten (Flatten)            (None, 256)               0         \n",
            "_________________________________________________________________\n",
            "dense (Dense)                (None, 4096)              1052672   \n",
            "_________________________________________________________________\n",
            "activation_5 (Activation)    (None, 4096)              0         \n",
            "_________________________________________________________________\n",
            "dropout (Dropout)            (None, 4096)              0         \n",
            "_________________________________________________________________\n",
            "batch_normalization_5 (Batch (None, 4096)              16384     \n",
            "_________________________________________________________________\n",
            "dense_1 (Dense)              (None, 4096)              16781312  \n",
            "_________________________________________________________________\n",
            "activation_6 (Activation)    (None, 4096)              0         \n",
            "_________________________________________________________________\n",
            "dropout_1 (Dropout)          (None, 4096)              0         \n",
            "_________________________________________________________________\n",
            "batch_normalization_6 (Batch (None, 4096)              16384     \n",
            "_________________________________________________________________\n",
            "dense_2 (Dense)              (None, 1000)              4097000   \n",
            "_________________________________________________________________\n",
            "activation_7 (Activation)    (None, 1000)              0         \n",
            "_________________________________________________________________\n",
            "dropout_2 (Dropout)          (None, 1000)              0         \n",
            "_________________________________________________________________\n",
            "batch_normalization_7 (Batch (None, 1000)              4000      \n",
            "_________________________________________________________________\n",
            "dense_3 (Dense)              (None, 17)                17017     \n",
            "_________________________________________________________________\n",
            "activation_8 (Activation)    (None, 17)                0         \n",
            "=================================================================\n",
            "Total params: 28,096,769\n",
            "Trainable params: 28,075,633\n",
            "Non-trainable params: 21,136\n",
            "_________________________________________________________________\n"
          ],
          "name": "stdout"
        }
      ]
    },
    {
      "cell_type": "code",
      "metadata": {
        "id": "cHJZ4qVpgKaJ"
      },
      "source": [
        ""
      ],
      "execution_count": null,
      "outputs": []
    },
    {
      "cell_type": "code",
      "metadata": {
        "id": "9qMi_A5tgg5z"
      },
      "source": [
        ""
      ],
      "execution_count": null,
      "outputs": []
    }
  ]
}